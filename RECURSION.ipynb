{
 "cells": [
  {
   "cell_type": "markdown",
   "id": "1172b4f1-74a5-47f1-926a-c8a176f6670f",
   "metadata": {},
   "source": [
    " # factorial"
   ]
  },
  {
   "cell_type": "code",
   "execution_count": 1,
   "id": "e260eef0-9346-4af0-9c8d-75f4b33a4858",
   "metadata": {},
   "outputs": [],
   "source": [
    "import sys\n",
    "sys.setrecursionlimit(100)\n",
    "import warnings\n",
    "warnings.filterwarnings(\"ignore\")"
   ]
  },
  {
   "cell_type": "code",
   "execution_count": 90,
   "id": "3826dc3f-6bdc-40d9-bb24-5fc500bad57e",
   "metadata": {},
   "outputs": [
    {
     "name": "stdout",
     "output_type": "stream",
     "text": [
      "THE NUMBER IS LESS THAN ZERO \n"
     ]
    }
   ],
   "source": [
    "def factorial(n):\n",
    "    if n <0 :\n",
    "        print(\"THE NUMBER IS LESS THAN ZERO \")\n",
    "    elif type(n) == float:\n",
    "        print(\"THE NUMBER IS NOT A INTEGER\")\n",
    "    elif n in [0,1]:\n",
    "        return 1 \n",
    "    else:\n",
    "        return n * factorial(n-1)\n",
    "factorial(-4)\n"
   ]
  },
  {
   "cell_type": "markdown",
   "id": "fea56144-4f21-4caf-8b45-788471f6101f",
   "metadata": {},
   "source": [
    "# fibonacci number"
   ]
  },
  {
   "cell_type": "code",
   "execution_count": 91,
   "id": "3c3224ec-3d5b-4d53-a362-a8d295a64471",
   "metadata": {},
   "outputs": [
    {
     "name": "stdout",
     "output_type": "stream",
     "text": [
      "THE NUMBER IS NOT A INTEGER\n"
     ]
    }
   ],
   "source": [
    "def fibonacci(n):\n",
    "    if n <0 :\n",
    "        print(\"THE NUMBER IS LESS THAN ZERO \")\n",
    "    elif type(n) == float:\n",
    "        print(\"THE NUMBER IS NOT A INTEGER\")\n",
    "   \n",
    "    elif n in [0,1]:\n",
    "        return n\n",
    "    else:\n",
    "        return fibonacci(n-1)+fibonacci(n-2)\n",
    "fibonacci(9.5)\n"
   ]
  },
  {
   "cell_type": "markdown",
   "id": "9c70e3b7-3690-4909-a865-7e82bf718c3c",
   "metadata": {},
   "source": [
    "# SOME INTERVIEW QUESTIONS FOR RECURSION"
   ]
  },
  {
   "cell_type": "markdown",
   "id": "37857ab2-9fb1-4330-a95e-3371d7b02b13",
   "metadata": {},
   "source": [
    "QUESTION 1 : HOW TO FIND THE SUM OF DIGITS OF A POSITIVE INTEGER NUMBER USING RECURSION?"
   ]
  },
  {
   "cell_type": "code",
   "execution_count": 92,
   "id": "5350eb7e-376e-46b9-ad01-1ff05326f548",
   "metadata": {},
   "outputs": [
    {
     "data": {
      "text/plain": [
       "5"
      ]
     },
     "execution_count": 92,
     "metadata": {},
     "output_type": "execute_result"
    }
   ],
   "source": [
    "def sumofdigits(n):\n",
    "    \n",
    "    if n <0 :\n",
    "        print(\"THE NUMBER IS LESS THAN ZERO \")\n",
    "    elif type(n) == float:\n",
    "        print(\"THE NUMBER IS NOT A INTEGER\")\n",
    "    elif n == 0:\n",
    "        return 0\n",
    "    else:\n",
    "        return int(n%10)+sumofdigits(int(n/10))\n",
    "sumofdigits(14)"
   ]
  },
  {
   "cell_type": "markdown",
   "id": "add7a6f1-a519-401e-b971-98ad37f4beb8",
   "metadata": {},
   "source": [
    "QUESTION 2 : HOW TO CALCULATE POWER OF A NUMBER USING RECURSION ?"
   ]
  },
  {
   "cell_type": "code",
   "execution_count": 93,
   "id": "bdc8b1b8-302c-4701-be53-3dc6fb801ec4",
   "metadata": {},
   "outputs": [],
   "source": [
    "def power(base,exp):\n",
    "    if exp<0 : \n",
    "        print(\"The power cannot be less than zero\")\n",
    "    elif type(exp)!=int:\n",
    "        print(\"The power should ne integer number \")\n",
    "    elif exp==0:\n",
    "        return 1\n",
    "    elif exp == 1:\n",
    "        return base\n",
    "    else:\n",
    "        return base*power(base,exp-1)"
   ]
  },
  {
   "cell_type": "code",
   "execution_count": 94,
   "id": "9dd103de-8202-4a40-a42b-9ffba5c15ded",
   "metadata": {},
   "outputs": [
    {
     "name": "stdout",
     "output_type": "stream",
     "text": [
      "The power should ne integer number \n"
     ]
    }
   ],
   "source": [
    "power(11,1.1)"
   ]
  },
  {
   "cell_type": "markdown",
   "id": "b05b21a6-3ba4-45c9-b264-9034326b10be",
   "metadata": {},
   "source": [
    "QUESTION 3 : HOW TO FIND GREATEST COMMON DIVISOR OF TWO NUMBERS USING RECURSION"
   ]
  },
  {
   "cell_type": "code",
   "execution_count": 170,
   "id": "759b6b58-6e7a-43e9-8f4b-a7c9897563ca",
   "metadata": {},
   "outputs": [],
   "source": [
    "def gcd(a,b):\n",
    "    if type(a) and type(b) != int :\n",
    "        print(\"The numbers must be integer\")\n",
    "    if a<0:\n",
    "        a=a*(-1)\n",
    "    if b<0:\n",
    "        b=b*(-1)\n",
    "    if b ==0:\n",
    "        return a\n",
    "    else:\n",
    "        return gcd(b,a%b)"
   ]
  },
  {
   "cell_type": "code",
   "execution_count": 173,
   "id": "42b2f882-142a-4351-bc7a-0684c4f3496d",
   "metadata": {},
   "outputs": [
    {
     "data": {
      "text/plain": [
       "6"
      ]
     },
     "execution_count": 173,
     "metadata": {},
     "output_type": "execute_result"
    }
   ],
   "source": [
    "gcd(48,-18)"
   ]
  },
  {
   "cell_type": "markdown",
   "id": "75c17cdf-5585-41e3-b8e5-b2f388261f6f",
   "metadata": {},
   "source": [
    "QUESTION 4 : HOW TO CONVERT A NUMBER FROM DECIMAL TO BINARY USING RECURSION"
   ]
  },
  {
   "cell_type": "code",
   "execution_count": 210,
   "id": "3adc9d8f-27df-4c3f-9b2a-c9c7e0394ac4",
   "metadata": {},
   "outputs": [],
   "source": [
    "def dectobin(n):\n",
    "    if type(n)!=int:\n",
    "        print(\"The decimal number must be an integer number\")\n",
    "    elif n==0:\n",
    "        return 0\n",
    "    else:\n",
    "        return n%2 + 10 * dectobin(int(n/2))"
   ]
  },
  {
   "cell_type": "code",
   "execution_count": 215,
   "id": "d0838c79-157d-4b6a-9ddd-ec5ed515766c",
   "metadata": {},
   "outputs": [
    {
     "data": {
      "text/plain": [
       "101000"
      ]
     },
     "execution_count": 215,
     "metadata": {},
     "output_type": "execute_result"
    }
   ],
   "source": [
    "dectobin(40)"
   ]
  }
 ],
 "metadata": {
  "kernelspec": {
   "display_name": "Python 3 (ipykernel)",
   "language": "python",
   "name": "python3"
  },
  "language_info": {
   "codemirror_mode": {
    "name": "ipython",
    "version": 3
   },
   "file_extension": ".py",
   "mimetype": "text/x-python",
   "name": "python",
   "nbconvert_exporter": "python",
   "pygments_lexer": "ipython3",
   "version": "3.10.8"
  }
 },
 "nbformat": 4,
 "nbformat_minor": 5
}
